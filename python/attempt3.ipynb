{
 "cells": [
  {
   "cell_type": "code",
   "execution_count": 1,
   "metadata": {},
   "outputs": [
    {
     "name": "stdout",
     "output_type": "stream",
     "text": [
      "Model: LinearRegression\n",
      "Cross-validated Mean Squared Error (MSE): 470833364529911.6\n",
      "Cross-validated Root Mean Squared Error (RMSE): 21698694.996010974\n",
      "Cross-validated R-squared (R²): 0.8235262389840721\n",
      "----------------------------------------\n",
      "Model: RandomForestRegressor\n",
      "Cross-validated Mean Squared Error (MSE): 6146800015581016.0\n",
      "Cross-validated Root Mean Squared Error (RMSE): 78401530.69667082\n",
      "Cross-validated R-squared (R²): -1.3556639178906529\n",
      "----------------------------------------\n"
     ]
    }
   ],
   "source": [
    "import pandas as pd\n",
    "from sklearn.model_selection import cross_val_score\n",
    "from sklearn.linear_model import LinearRegression\n",
    "from sklearn.ensemble import RandomForestRegressor\n",
    "from sklearn.metrics import mean_squared_error, r2_score\n",
    "\n",
    "# Load training data\n",
    "train_df = pd.read_csv('train.csv')\n",
    "\n",
    "# Extract features and target from training data\n",
    "X_train = train_df[['year']]\n",
    "y_train = train_df['price']\n",
    "\n",
    "# Define a list of regression models to evaluate\n",
    "models = [\n",
    "    LinearRegression(),\n",
    "    RandomForestRegressor(n_estimators=100, random_state=42)\n",
    "]\n",
    "\n",
    "# Evaluate each model using cross-validation\n",
    "for model in models:\n",
    "    # Perform cross-validation\n",
    "    cv_scores = cross_val_score(model, X_train, y_train, cv=5, scoring='neg_mean_squared_error')\n",
    "    \n",
    "    # Calculate metrics\n",
    "    mse_cv = -cv_scores.mean()\n",
    "    rmse_cv = mse_cv ** 0.5\n",
    "    r2_cv = cross_val_score(model, X_train, y_train, cv=5, scoring='r2').mean()\n",
    "\n",
    "    # Print the results\n",
    "    print(f'Model: {model.__class__.__name__}')\n",
    "    print(f'Cross-validated Mean Squared Error (MSE): {mse_cv}')\n",
    "    print(f'Cross-validated Root Mean Squared Error (RMSE): {rmse_cv}')\n",
    "    print(f'Cross-validated R-squared (R²): {r2_cv}')\n",
    "    print('----------------------------------------')\n",
    "\n",
    "# Choose the best model based on performance\n",
    "best_model = RandomForestRegressor(n_estimators=100, random_state=42)  # Or choose the model with the best performance\n",
    "\n",
    "# Train the best model on the full training data\n",
    "best_model.fit(X_train, y_train)\n",
    "\n",
    "# Load test data\n",
    "test_df = pd.read_csv('test.csv')\n",
    "\n",
    "# Extract features from test data\n",
    "X_test = test_df[['year']]\n",
    "\n",
    "# Predict prices for test data using the best model\n",
    "test_df['price'] = best_model.predict(X_test)\n",
    "\n",
    "# Save test data with predicted prices to a new CSV file\n",
    "test_df.to_csv('testwithpredictions3.csv', index=False)\n"
   ]
  }
 ],
 "metadata": {
  "kernelspec": {
   "display_name": "Python 3",
   "language": "python",
   "name": "python3"
  },
  "language_info": {
   "codemirror_mode": {
    "name": "ipython",
    "version": 3
   },
   "file_extension": ".py",
   "mimetype": "text/x-python",
   "name": "python",
   "nbconvert_exporter": "python",
   "pygments_lexer": "ipython3",
   "version": "3.12.0"
  }
 },
 "nbformat": 4,
 "nbformat_minor": 2
}
