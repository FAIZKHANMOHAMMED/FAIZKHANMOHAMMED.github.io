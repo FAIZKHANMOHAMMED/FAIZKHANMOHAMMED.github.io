{
 "cells": [
  {
   "cell_type": "code",
   "execution_count": 2,
   "metadata": {},
   "outputs": [
    {
     "name": "stdout",
     "output_type": "stream",
     "text": [
      "Cross-validated Mean Squared Error (MSE): 6146800015581016.0\n",
      "Cross-validated Root Mean Squared Error (RMSE): 78401530.69667082\n",
      "Cross-validated R-squared (R²): -1.3556639178906529\n"
     ]
    }
   ],
   "source": [
    "import pandas as pd\n",
    "from sklearn.model_selection import train_test_split, cross_val_score\n",
    "from sklearn.ensemble import RandomForestRegressor\n",
    "from sklearn.metrics import mean_squared_error, r2_score\n",
    "\n",
    "# Load data\n",
    "train_df = pd.read_csv('train.csv')\n",
    "test_df = pd.read_csv('test.csv')\n",
    "\n",
    "# Feature Engineering\n",
    "# Add more features if available and meaningful\n",
    "\n",
    "# Define features and target\n",
    "X = train_df[['year']]\n",
    "y = train_df['price']\n",
    "\n",
    "# Model Selection and Training\n",
    "model = RandomForestRegressor(n_estimators=100, random_state=42)\n",
    "model.fit(X, y)\n",
    "\n",
    "# Cross-validation\n",
    "cv_scores = cross_val_score(model, X, y, cv=5, scoring='neg_mean_squared_error')\n",
    "mse_cv = -cv_scores.mean()\n",
    "rmse_cv = mse_cv ** 0.5\n",
    "r2_cv = cross_val_score(model, X, y, cv=5, scoring='r2').mean()\n",
    "\n",
    "print(f'Cross-validated Mean Squared Error (MSE): {mse_cv}')\n",
    "print(f'Cross-validated Root Mean Squared Error (RMSE): {rmse_cv}')\n",
    "print(f'Cross-validated R-squared (R²): {r2_cv}')\n",
    "\n",
    "# Predictions on test data\n",
    "test_df['price'] = model.predict(test_df[['year']])\n",
    "test_df.to_csv('testwithpredictions.csv', index=False)\n"
   ]
  }
 ],
 "metadata": {
  "kernelspec": {
   "display_name": "Python 3",
   "language": "python",
   "name": "python3"
  },
  "language_info": {
   "codemirror_mode": {
    "name": "ipython",
    "version": 3
   },
   "file_extension": ".py",
   "mimetype": "text/x-python",
   "name": "python",
   "nbconvert_exporter": "python",
   "pygments_lexer": "ipython3",
   "version": "3.12.0"
  }
 },
 "nbformat": 4,
 "nbformat_minor": 2
}
